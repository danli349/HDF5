{
 "cells": [
  {
   "cell_type": "markdown",
   "id": "d5f96a2e",
   "metadata": {
    "tags": []
   },
   "source": [
    "# Chapter 1. Introduction"
   ]
  },
  {
   "cell_type": "code",
   "execution_count": 2,
   "id": "e9b7a523",
   "metadata": {},
   "outputs": [
    {
     "name": "stderr",
     "output_type": "stream",
     "text": [
      "<ipython-input-2-3f4aa97ea856>:5: H5pyDeprecationWarning: The default file mode will change to 'r' (read-only) in h5py 3.0. To suppress this warning, pass the mode you need to h5py.File(), or set the global default h5.get_config().default_file_mode, or set the environment variable H5PY_DEFAULT_READONLY=1. Available modes are: 'r', 'r+', 'w', 'w-'/'x', 'a'. See the docs for details.\n",
      "  f = h5py.File(\"weather.hdf5\")\n"
     ]
    }
   ],
   "source": [
    "import h5py\n",
    "import numpy as np\n",
    "temperature = np.random.random(1024)\n",
    "\n",
    "f = h5py.File(\"weather.hdf5\")\n",
    "f[\"/15/temperature\"] = temperature\n",
    "f[\"/15/temperature\"].attrs[\"dt\"] = 10.0\n",
    "f[\"/15/temperature\"].attrs[\"start_time\"] = 1375204299\n",
    "\n",
    "wind = np.random.random(2048)\n",
    "dt_wind = 5.0 # Wind sampled every 5 seconds\n",
    "\n",
    "f[\"/15/wind\"] = wind\n",
    "f[\"/15/wind\"].attrs[\"dt\"] = 5.0"
   ]
  },
  {
   "cell_type": "code",
   "execution_count": 5,
   "id": "f7693058",
   "metadata": {},
   "outputs": [
    {
     "data": {
      "text/plain": [
       "<HDF5 dataset \"temperature\": shape (1024,), type \"<f8\">"
      ]
     },
     "execution_count": 5,
     "metadata": {},
     "output_type": "execute_result"
    }
   ],
   "source": [
    "dataset = f[\"/15/temperature\"]\n",
    "dataset"
   ]
  },
  {
   "cell_type": "code",
   "execution_count": 7,
   "id": "38451312",
   "metadata": {},
   "outputs": [
    {
     "data": {
      "text/plain": [
       "10.0"
      ]
     },
     "execution_count": 7,
     "metadata": {},
     "output_type": "execute_result"
    }
   ],
   "source": [
    "dataset.attrs[\"dt\"]"
   ]
  },
  {
   "cell_type": "code",
   "execution_count": 8,
   "id": "2f2f950b",
   "metadata": {},
   "outputs": [
    {
     "data": {
      "text/plain": [
       "1375204299"
      ]
     },
     "execution_count": 8,
     "metadata": {},
     "output_type": "execute_result"
    }
   ],
   "source": [
    "dataset.attrs[\"start_time\"]"
   ]
  },
  {
   "cell_type": "code",
   "execution_count": 9,
   "id": "7094464f",
   "metadata": {},
   "outputs": [
    {
     "name": "stdout",
     "output_type": "stream",
     "text": [
      "dt: 10.0\n",
      "start_time: 1375204299\n"
     ]
    }
   ],
   "source": [
    "dataset = f[\"/15/temperature\"]\n",
    "for key, value in dataset.attrs.items():\n",
    "    print(\"%s: %s\" % (key, value))"
   ]
  },
  {
   "cell_type": "code",
   "execution_count": 10,
   "id": "ca268c2b",
   "metadata": {},
   "outputs": [
    {
     "data": {
      "text/plain": [
       "array([0.49415441, 0.12350843, 0.36382387, 0.21723826, 0.39345324,\n",
       "       0.66432891, 0.60911616, 0.95404353, 0.27932092, 0.0866344 ])"
      ]
     },
     "execution_count": 10,
     "metadata": {},
     "output_type": "execute_result"
    }
   ],
   "source": [
    "dataset[0:10]"
   ]
  },
  {
   "cell_type": "code",
   "execution_count": 11,
   "id": "4c8f2bb2",
   "metadata": {},
   "outputs": [],
   "source": [
    "big_dataset = f.create_dataset(\"big\", shape=(1024, 1024, 1024, 512), dtype='float32')"
   ]
  },
  {
   "cell_type": "code",
   "execution_count": 12,
   "id": "91067f41",
   "metadata": {},
   "outputs": [],
   "source": [
    "big_dataset[344, 678, 23, 36] = 42.0"
   ]
  },
  {
   "cell_type": "code",
   "execution_count": 13,
   "id": "3ef3b350",
   "metadata": {},
   "outputs": [],
   "source": [
    "compressed_dataset = f.create_dataset(\"comp\", shape=(1024,), dtype='int32', compression='gzip')"
   ]
  },
  {
   "cell_type": "code",
   "execution_count": 14,
   "id": "482eae3b",
   "metadata": {},
   "outputs": [
    {
     "data": {
      "text/plain": [
       "array([   0,    1,    2, ..., 1021, 1022, 1023], dtype=int32)"
      ]
     },
     "execution_count": 14,
     "metadata": {},
     "output_type": "execute_result"
    }
   ],
   "source": [
    "compressed_dataset[:] = np.arange(1024)\n",
    "compressed_dataset[:]"
   ]
  },
  {
   "cell_type": "code",
   "execution_count": 15,
   "id": "52cc2a06",
   "metadata": {},
   "outputs": [
    {
     "data": {
      "text/plain": [
       "<KeysViewHDF5 ['15', 'big', 'comp']>"
      ]
     },
     "execution_count": 15,
     "metadata": {},
     "output_type": "execute_result"
    }
   ],
   "source": [
    "f.keys()"
   ]
  },
  {
   "cell_type": "code",
   "execution_count": 16,
   "id": "dd33fcb9",
   "metadata": {},
   "outputs": [
    {
     "data": {
      "text/plain": [
       "<KeysViewHDF5 ['temperature', 'wind']>"
      ]
     },
     "execution_count": 16,
     "metadata": {},
     "output_type": "execute_result"
    }
   ],
   "source": [
    "f[\"/15\"].keys()"
   ]
  },
  {
   "cell_type": "markdown",
   "id": "7df8cb76",
   "metadata": {
    "tags": []
   },
   "source": [
    "# Chapter 2. Getting Started"
   ]
  },
  {
   "cell_type": "code",
   "execution_count": 19,
   "id": "a098741b",
   "metadata": {},
   "outputs": [
    {
     "data": {
      "text/plain": [
       "\u001b[0;31mSignature:\u001b[0m \u001b[0mh5py\u001b[0m\u001b[0;34m.\u001b[0m\u001b[0mFile\u001b[0m\u001b[0;34m.\u001b[0m\u001b[0mclose\u001b[0m\u001b[0;34m(\u001b[0m\u001b[0mself\u001b[0m\u001b[0;34m)\u001b[0m\u001b[0;34m\u001b[0m\u001b[0;34m\u001b[0m\u001b[0m\n",
       "\u001b[0;31mDocstring:\u001b[0m Close the file.  All open objects become invalid \n",
       "\u001b[0;31mFile:\u001b[0m      ~/miniconda3/lib/python3.8/site-packages/h5py/_hl/files.py\n",
       "\u001b[0;31mType:\u001b[0m      function\n"
      ]
     },
     "metadata": {},
     "output_type": "display_data"
    }
   ],
   "source": [
    "h5py.File.close?"
   ]
  },
  {
   "cell_type": "code",
   "execution_count": 22,
   "id": "41686b29",
   "metadata": {},
   "outputs": [
    {
     "data": {
      "text/plain": [
       "(None, 0.5036407000006875)"
      ]
     },
     "execution_count": 22,
     "metadata": {},
     "output_type": "execute_result"
    }
   ],
   "source": [
    "from timeit import timeit\n",
    "import time\n",
    "time.sleep(0.1), timeit(\"time.sleep(0.1)\", number=5)"
   ]
  },
  {
   "cell_type": "code",
   "execution_count": 23,
   "id": "513d2d0f",
   "metadata": {},
   "outputs": [
    {
     "name": "stdout",
     "output_type": "stream",
     "text": [
      "101 ms ± 74.9 µs per loop (mean ± std. dev. of 7 runs, 10 loops each)\n"
     ]
    }
   ],
   "source": [
    "%timeit time.sleep(0.1)"
   ]
  },
  {
   "cell_type": "code",
   "execution_count": 28,
   "id": "0f834ed1",
   "metadata": {},
   "outputs": [
    {
     "name": "stderr",
     "output_type": "stream",
     "text": [
      "<ipython-input-28-9e3ceaf027aa>:1: H5pyDeprecationWarning: The default file mode will change to 'r' (read-only) in h5py 3.0. To suppress this warning, pass the mode you need to h5py.File(), or set the global default h5.get_config().default_file_mode, or set the environment variable H5PY_DEFAULT_READONLY=1. Available modes are: 'r', 'r+', 'w', 'w-'/'x', 'a'. See the docs for details.\n",
      "  f = h5py.File(\"name.hdf5\")\n"
     ]
    }
   ],
   "source": [
    "f = h5py.File(\"name.hdf5\")\n",
    "f.close()"
   ]
  },
  {
   "cell_type": "code",
   "execution_count": 29,
   "id": "f957192b",
   "metadata": {},
   "outputs": [],
   "source": [
    "f = h5py.File(\"name.hdf5\", \"w\") # New file overwriting any existing file\n",
    "f = h5py.File(\"name.hdf5\", \"r\") # Open read-only (must exist)\n",
    "f = h5py.File(\"name.hdf5\", \"r+\") # Open read-write (must exist)\n",
    "f = h5py.File(\"name.hdf5\", \"a\") # Open read-write (create if doesn't exist)"
   ]
  },
  {
   "cell_type": "code",
   "execution_count": 31,
   "id": "9f19181b",
   "metadata": {},
   "outputs": [
    {
     "name": "stdout",
     "output_type": "stream",
     "text": [
      "name_eta_η\n"
     ]
    },
    {
     "name": "stderr",
     "output_type": "stream",
     "text": [
      "<ipython-input-31-5b9152b63053>:2: H5pyDeprecationWarning: The default file mode will change to 'r' (read-only) in h5py 3.0. To suppress this warning, pass the mode you need to h5py.File(), or set the global default h5.get_config().default_file_mode, or set the environment variable H5PY_DEFAULT_READONLY=1. Available modes are: 'r', 'r+', 'w', 'w-'/'x', 'a'. See the docs for details.\n",
      "  f = h5py.File(name)\n"
     ]
    }
   ],
   "source": [
    "name = u\"name_eta_\\u03b7\"\n",
    "f = h5py.File(name)\n",
    "print(f.filename)"
   ]
  },
  {
   "cell_type": "code",
   "execution_count": 32,
   "id": "7beef656",
   "metadata": {},
   "outputs": [
    {
     "ename": "KeyError",
     "evalue": "\"Unable to open object (object 'missing_dataset' doesn't exist)\"",
     "output_type": "error",
     "traceback": [
      "\u001b[0;31m---------------------------------------------------------------------------\u001b[0m",
      "\u001b[0;31mKeyError\u001b[0m                                  Traceback (most recent call last)",
      "\u001b[0;32m<ipython-input-32-8ab1e0f6174a>\u001b[0m in \u001b[0;36m<module>\u001b[0;34m\u001b[0m\n\u001b[1;32m      1\u001b[0m \u001b[0;32mwith\u001b[0m \u001b[0mh5py\u001b[0m\u001b[0;34m.\u001b[0m\u001b[0mFile\u001b[0m\u001b[0;34m(\u001b[0m\u001b[0;34m\"name.hdf5\"\u001b[0m\u001b[0;34m,\u001b[0m \u001b[0;34m\"w\"\u001b[0m\u001b[0;34m)\u001b[0m \u001b[0;32mas\u001b[0m \u001b[0mf\u001b[0m\u001b[0;34m:\u001b[0m\u001b[0;34m\u001b[0m\u001b[0;34m\u001b[0m\u001b[0m\n\u001b[0;32m----> 2\u001b[0;31m     \u001b[0mprint\u001b[0m\u001b[0;34m(\u001b[0m\u001b[0mf\u001b[0m\u001b[0;34m[\u001b[0m\u001b[0;34m\"missing_dataset\"\u001b[0m\u001b[0;34m]\u001b[0m\u001b[0;34m)\u001b[0m\u001b[0;34m\u001b[0m\u001b[0;34m\u001b[0m\u001b[0m\n\u001b[0m",
      "\u001b[0;32mh5py/_objects.pyx\u001b[0m in \u001b[0;36mh5py._objects.with_phil.wrapper\u001b[0;34m()\u001b[0m\n",
      "\u001b[0;32mh5py/_objects.pyx\u001b[0m in \u001b[0;36mh5py._objects.with_phil.wrapper\u001b[0;34m()\u001b[0m\n",
      "\u001b[0;32m~/miniconda3/lib/python3.8/site-packages/h5py/_hl/group.py\u001b[0m in \u001b[0;36m__getitem__\u001b[0;34m(self, name)\u001b[0m\n\u001b[1;32m    262\u001b[0m                 \u001b[0;32mraise\u001b[0m \u001b[0mValueError\u001b[0m\u001b[0;34m(\u001b[0m\u001b[0;34m\"Invalid HDF5 object reference\"\u001b[0m\u001b[0;34m)\u001b[0m\u001b[0;34m\u001b[0m\u001b[0;34m\u001b[0m\u001b[0m\n\u001b[1;32m    263\u001b[0m         \u001b[0;32melse\u001b[0m\u001b[0;34m:\u001b[0m\u001b[0;34m\u001b[0m\u001b[0;34m\u001b[0m\u001b[0m\n\u001b[0;32m--> 264\u001b[0;31m             \u001b[0moid\u001b[0m \u001b[0;34m=\u001b[0m \u001b[0mh5o\u001b[0m\u001b[0;34m.\u001b[0m\u001b[0mopen\u001b[0m\u001b[0;34m(\u001b[0m\u001b[0mself\u001b[0m\u001b[0;34m.\u001b[0m\u001b[0mid\u001b[0m\u001b[0;34m,\u001b[0m \u001b[0mself\u001b[0m\u001b[0;34m.\u001b[0m\u001b[0m_e\u001b[0m\u001b[0;34m(\u001b[0m\u001b[0mname\u001b[0m\u001b[0;34m)\u001b[0m\u001b[0;34m,\u001b[0m \u001b[0mlapl\u001b[0m\u001b[0;34m=\u001b[0m\u001b[0mself\u001b[0m\u001b[0;34m.\u001b[0m\u001b[0m_lapl\u001b[0m\u001b[0;34m)\u001b[0m\u001b[0;34m\u001b[0m\u001b[0;34m\u001b[0m\u001b[0m\n\u001b[0m\u001b[1;32m    265\u001b[0m \u001b[0;34m\u001b[0m\u001b[0m\n\u001b[1;32m    266\u001b[0m         \u001b[0motype\u001b[0m \u001b[0;34m=\u001b[0m \u001b[0mh5i\u001b[0m\u001b[0;34m.\u001b[0m\u001b[0mget_type\u001b[0m\u001b[0;34m(\u001b[0m\u001b[0moid\u001b[0m\u001b[0;34m)\u001b[0m\u001b[0;34m\u001b[0m\u001b[0;34m\u001b[0m\u001b[0m\n",
      "\u001b[0;32mh5py/_objects.pyx\u001b[0m in \u001b[0;36mh5py._objects.with_phil.wrapper\u001b[0;34m()\u001b[0m\n",
      "\u001b[0;32mh5py/_objects.pyx\u001b[0m in \u001b[0;36mh5py._objects.with_phil.wrapper\u001b[0;34m()\u001b[0m\n",
      "\u001b[0;32mh5py/h5o.pyx\u001b[0m in \u001b[0;36mh5py.h5o.open\u001b[0;34m()\u001b[0m\n",
      "\u001b[0;31mKeyError\u001b[0m: \"Unable to open object (object 'missing_dataset' doesn't exist)\""
     ]
    }
   ],
   "source": [
    "with h5py.File(\"name.hdf5\", \"w\") as f:\n",
    "    print(f[\"missing_dataset\"])"
   ]
  },
  {
   "cell_type": "code",
   "execution_count": 33,
   "id": "124ae6bc",
   "metadata": {},
   "outputs": [
    {
     "name": "stdout",
     "output_type": "stream",
     "text": [
      "<Closed HDF5 file>\n"
     ]
    }
   ],
   "source": [
    "print(f)"
   ]
  },
  {
   "cell_type": "code",
   "execution_count": 39,
   "id": "41e8835c",
   "metadata": {},
   "outputs": [
    {
     "name": "stderr",
     "output_type": "stream",
     "text": [
      "<ipython-input-39-c2b14e76d02e>:1: H5pyDeprecationWarning: The default file mode will change to 'r' (read-only) in h5py 3.0. To suppress this warning, pass the mode you need to h5py.File(), or set the global default h5.get_config().default_file_mode, or set the environment variable H5PY_DEFAULT_READONLY=1. Available modes are: 'r', 'r+', 'w', 'w-'/'x', 'a'. See the docs for details.\n",
      "  f = h5py.File(\"name.hdf5\", driver=\"core\")\n"
     ]
    }
   ],
   "source": [
    "f = h5py.File(\"name.hdf5\", driver=\"core\")"
   ]
  },
  {
   "cell_type": "code",
   "execution_count": 40,
   "id": "d8393185",
   "metadata": {},
   "outputs": [
    {
     "name": "stderr",
     "output_type": "stream",
     "text": [
      "<ipython-input-40-de065243ae88>:1: H5pyDeprecationWarning: The default file mode will change to 'r' (read-only) in h5py 3.0. To suppress this warning, pass the mode you need to h5py.File(), or set the global default h5.get_config().default_file_mode, or set the environment variable H5PY_DEFAULT_READONLY=1. Available modes are: 'r', 'r+', 'w', 'w-'/'x', 'a'. See the docs for details.\n",
      "  f = h5py.File(\"name.hdf5\", driver=\"core\", backing_store=True)\n"
     ]
    }
   ],
   "source": [
    "f = h5py.File(\"name.hdf5\", driver=\"core\", backing_store=True)"
   ]
  },
  {
   "cell_type": "code",
   "execution_count": 38,
   "id": "1bb94575",
   "metadata": {},
   "outputs": [],
   "source": [
    "h5py.get_config().default_file_mode"
   ]
  },
  {
   "cell_type": "markdown",
   "id": "d1a83888",
   "metadata": {},
   "source": [
    "# Chapter 3. Working with Datasets"
   ]
  },
  {
   "cell_type": "code",
   "execution_count": 75,
   "id": "f9c411bc",
   "metadata": {},
   "outputs": [
    {
     "name": "stderr",
     "output_type": "stream",
     "text": [
      "<ipython-input-75-95d3ad7c321a>:1: H5pyDeprecationWarning: The default file mode will change to 'r' (read-only) in h5py 3.0. To suppress this warning, pass the mode you need to h5py.File(), or set the global default h5.get_config().default_file_mode, or set the environment variable H5PY_DEFAULT_READONLY=1. Available modes are: 'r', 'r+', 'w', 'w-'/'x', 'a'. See the docs for details.\n",
      "  f = h5py.File(\"testfile.hdf5\")\n"
     ]
    },
    {
     "data": {
      "text/plain": [
       "<HDF5 dataset \"my dataset\": shape (5, 2), type \"<f8\">"
      ]
     },
     "execution_count": 75,
     "metadata": {},
     "output_type": "execute_result"
    }
   ],
   "source": [
    "f = h5py.File(\"testfile.hdf5\")\n",
    "arr = np.ones((5,2))\n",
    "f[\"my dataset\"] = arr\n",
    "dset = f[\"my dataset\"]\n",
    "dset"
   ]
  },
  {
   "cell_type": "code",
   "execution_count": 45,
   "id": "a30f3e98",
   "metadata": {},
   "outputs": [
    {
     "data": {
      "text/plain": [
       "dtype('<f8')"
      ]
     },
     "execution_count": 45,
     "metadata": {},
     "output_type": "execute_result"
    }
   ],
   "source": [
    "dset.dtype"
   ]
  },
  {
   "cell_type": "code",
   "execution_count": 46,
   "id": "7446787d",
   "metadata": {},
   "outputs": [
    {
     "data": {
      "text/plain": [
       "(5, 2)"
      ]
     },
     "execution_count": 46,
     "metadata": {},
     "output_type": "execute_result"
    }
   ],
   "source": [
    "dset.shape"
   ]
  },
  {
   "cell_type": "code",
   "execution_count": 47,
   "id": "0c2a6213",
   "metadata": {},
   "outputs": [
    {
     "data": {
      "text/plain": [
       "array([[1., 1.],\n",
       "       [1., 1.],\n",
       "       [1., 1.],\n",
       "       [1., 1.],\n",
       "       [1., 1.]])"
      ]
     },
     "execution_count": 47,
     "metadata": {},
     "output_type": "execute_result"
    }
   ],
   "source": [
    "out = dset[...]\n",
    "out"
   ]
  },
  {
   "cell_type": "code",
   "execution_count": 48,
   "id": "ca363049",
   "metadata": {},
   "outputs": [
    {
     "data": {
      "text/plain": [
       "numpy.ndarray"
      ]
     },
     "execution_count": 48,
     "metadata": {},
     "output_type": "execute_result"
    }
   ],
   "source": [
    "type(out)"
   ]
  },
  {
   "cell_type": "code",
   "execution_count": 49,
   "id": "2a1b5c95",
   "metadata": {},
   "outputs": [
    {
     "data": {
      "text/plain": [
       "array([[1., 1.],\n",
       "       [1., 2.],\n",
       "       [1., 2.],\n",
       "       [1., 2.],\n",
       "       [1., 1.]])"
      ]
     },
     "execution_count": 49,
     "metadata": {},
     "output_type": "execute_result"
    }
   ],
   "source": [
    "dset[1:4,1] = 2.0\n",
    "dset[...]"
   ]
  },
  {
   "cell_type": "code",
   "execution_count": 50,
   "id": "b7a7281c",
   "metadata": {},
   "outputs": [],
   "source": [
    "dset = f.create_dataset(\"big dataset\", (1024**3,), dtype=np.float32)\n",
    "dset[0:1024] = np.arange(1024)"
   ]
  },
  {
   "cell_type": "code",
   "execution_count": 51,
   "id": "39c56297",
   "metadata": {},
   "outputs": [],
   "source": [
    "#we also ask HDF5 to flush its buffers and actually write to disk:\n",
    "f.flush()"
   ]
  },
  {
   "cell_type": "code",
   "execution_count": 52,
   "id": "f7991349",
   "metadata": {},
   "outputs": [
    {
     "name": "stdout",
     "output_type": "stream",
     "text": [
      "-rwxrwxrwx 1 dan dan 4.1G Feb 11 13:00 \u001b[0m\u001b[01;32mtestfile.hdf5\u001b[0m*\n"
     ]
    }
   ],
   "source": [
    "%ls -lh testfile.hdf5"
   ]
  },
  {
   "cell_type": "code",
   "execution_count": 53,
   "id": "7d3f723d",
   "metadata": {},
   "outputs": [
    {
     "data": {
      "text/plain": [
       "dtype('float64')"
      ]
     },
     "execution_count": 53,
     "metadata": {},
     "output_type": "execute_result"
    }
   ],
   "source": [
    "bigdata = np.ones((100,1000))\n",
    "bigdata.dtype"
   ]
  },
  {
   "cell_type": "code",
   "execution_count": 54,
   "id": "70578335",
   "metadata": {},
   "outputs": [
    {
     "data": {
      "text/plain": [
       "(100, 1000)"
      ]
     },
     "execution_count": 54,
     "metadata": {},
     "output_type": "execute_result"
    }
   ],
   "source": [
    "bigdata.shape"
   ]
  },
  {
   "cell_type": "code",
   "execution_count": 55,
   "id": "9facdd34",
   "metadata": {},
   "outputs": [],
   "source": [
    "with h5py.File('big1.hdf5','w') as f1:\n",
    "    f1['big'] = bigdata"
   ]
  },
  {
   "cell_type": "code",
   "execution_count": 3,
   "id": "2a00e1b7",
   "metadata": {},
   "outputs": [
    {
     "name": "stdout",
     "output_type": "stream",
     "text": [
      " Volume in drive D is Data\n",
      " Volume Serial Number is C839-DC37\n",
      "\n",
      " Directory of D:\\books\\python\\0. HDF5\n",
      "\n",
      "\n",
      " Directory of D:\\books\\python\\0. HDF5\n",
      "\n",
      "02/11/2022  10:17 PM           802,048 big1.hdf5\n",
      "               1 File(s)        802,048 bytes\n",
      "               0 Dir(s)  635,343,654,912 bytes free\n"
     ]
    }
   ],
   "source": [
    "%ls -lh big1.hdf5"
   ]
  },
  {
   "cell_type": "code",
   "execution_count": 57,
   "id": "716efb40",
   "metadata": {},
   "outputs": [],
   "source": [
    "with h5py.File('big2.hdf5','w') as f2:\n",
    "    f2.create_dataset('big', data=bigdata, dtype=np.float32)"
   ]
  },
  {
   "cell_type": "code",
   "execution_count": 58,
   "id": "d990e67f",
   "metadata": {},
   "outputs": [
    {
     "name": "stdout",
     "output_type": "stream",
     "text": [
      "-rwxrwxrwx 1 dan dan 393K Feb 11 13:42 \u001b[0m\u001b[01;32mbig2.hdf5\u001b[0m*\n"
     ]
    }
   ],
   "source": [
    "%ls -lh big2.hdf5"
   ]
  },
  {
   "cell_type": "code",
   "execution_count": 59,
   "id": "12c0fd55",
   "metadata": {},
   "outputs": [
    {
     "name": "stderr",
     "output_type": "stream",
     "text": [
      "<ipython-input-59-6904ccc60edf>:1: H5pyDeprecationWarning: The default file mode will change to 'r' (read-only) in h5py 3.0. To suppress this warning, pass the mode you need to h5py.File(), or set the global default h5.get_config().default_file_mode, or set the environment variable H5PY_DEFAULT_READONLY=1. Available modes are: 'r', 'r+', 'w', 'w-'/'x', 'a'. See the docs for details.\n",
      "  f1 = h5py.File(\"big1.hdf5\")\n",
      "<ipython-input-59-6904ccc60edf>:2: H5pyDeprecationWarning: The default file mode will change to 'r' (read-only) in h5py 3.0. To suppress this warning, pass the mode you need to h5py.File(), or set the global default h5.get_config().default_file_mode, or set the environment variable H5PY_DEFAULT_READONLY=1. Available modes are: 'r', 'r+', 'w', 'w-'/'x', 'a'. See the docs for details.\n",
      "  f2 = h5py.File(\"big2.hdf5\")\n"
     ]
    },
    {
     "data": {
      "text/plain": [
       "(dtype('<f8'), dtype('<f4'))"
      ]
     },
     "execution_count": 59,
     "metadata": {},
     "output_type": "execute_result"
    }
   ],
   "source": [
    "f1 = h5py.File(\"big1.hdf5\")\n",
    "f2 = h5py.File(\"big2.hdf5\")\n",
    "f1['big'].dtype, f2['big'].dtype"
   ]
  },
  {
   "cell_type": "code",
   "execution_count": 60,
   "id": "e437bdbc",
   "metadata": {},
   "outputs": [
    {
     "data": {
      "text/plain": [
       "dtype('<f4')"
      ]
     },
     "execution_count": 60,
     "metadata": {},
     "output_type": "execute_result"
    }
   ],
   "source": [
    "dset = f2['big']\n",
    "dset.dtype"
   ]
  },
  {
   "cell_type": "code",
   "execution_count": 61,
   "id": "a37d7e28",
   "metadata": {},
   "outputs": [
    {
     "data": {
      "text/plain": [
       "(100, 1000)"
      ]
     },
     "execution_count": 61,
     "metadata": {},
     "output_type": "execute_result"
    }
   ],
   "source": [
    "dset.shape"
   ]
  },
  {
   "cell_type": "code",
   "execution_count": 62,
   "id": "0ff2a872",
   "metadata": {},
   "outputs": [],
   "source": [
    "big_out = np.empty((100, 1000), dtype=np.float64)"
   ]
  },
  {
   "cell_type": "code",
   "execution_count": 63,
   "id": "cc61180d",
   "metadata": {},
   "outputs": [
    {
     "data": {
      "text/plain": [
       "(100, 1000)"
      ]
     },
     "execution_count": 63,
     "metadata": {},
     "output_type": "execute_result"
    }
   ],
   "source": [
    "dset.read_direct(big_out)\n",
    "dset.shape"
   ]
  },
  {
   "cell_type": "code",
   "execution_count": 64,
   "id": "69b7505b",
   "metadata": {},
   "outputs": [
    {
     "data": {
      "text/plain": [
       "dtype('<f4')"
      ]
     },
     "execution_count": 64,
     "metadata": {},
     "output_type": "execute_result"
    }
   ],
   "source": [
    "dset.dtype"
   ]
  },
  {
   "cell_type": "code",
   "execution_count": 65,
   "id": "1c5d2ccb",
   "metadata": {},
   "outputs": [
    {
     "data": {
      "text/plain": [
       "dtype('float64')"
      ]
     },
     "execution_count": 65,
     "metadata": {},
     "output_type": "execute_result"
    }
   ],
   "source": [
    "with dset.astype('float64'):\n",
    "    out = dset[0,:]\n",
    "out.dtype"
   ]
  },
  {
   "cell_type": "code",
   "execution_count": 66,
   "id": "0726fffe",
   "metadata": {},
   "outputs": [
    {
     "name": "stdout",
     "output_type": "stream",
     "text": [
      "1e+256\n"
     ]
    }
   ],
   "source": [
    "f.create_dataset('x', data=1e256, dtype=np.float64)\n",
    "print(f['x'][...])"
   ]
  },
  {
   "cell_type": "code",
   "execution_count": 67,
   "id": "b2efe9c5",
   "metadata": {},
   "outputs": [
    {
     "name": "stdout",
     "output_type": "stream",
     "text": [
      "inf\n"
     ]
    }
   ],
   "source": [
    "f.create_dataset('y', data=1e256, dtype=np.float32)\n",
    "print(f['y'][...])"
   ]
  },
  {
   "cell_type": "code",
   "execution_count": 68,
   "id": "2951c030",
   "metadata": {},
   "outputs": [
    {
     "data": {
      "text/plain": [
       "array([[0, 0],\n",
       "       [0, 0]], dtype=int32)"
      ]
     },
     "execution_count": 68,
     "metadata": {},
     "output_type": "execute_result"
    }
   ],
   "source": [
    "# empty default value is 0\n",
    "dset = f.create_dataset('empty', (2,2), dtype=np.int32)\n",
    "dset[...]"
   ]
  },
  {
   "cell_type": "code",
   "execution_count": 69,
   "id": "b085126d",
   "metadata": {},
   "outputs": [
    {
     "data": {
      "text/plain": [
       "array([[42, 42],\n",
       "       [42, 42]], dtype=int32)"
      ]
     },
     "execution_count": 69,
     "metadata": {},
     "output_type": "execute_result"
    }
   ],
   "source": [
    "dset = f.create_dataset('filled', (2,2), dtype=np.int32, fillvalue=42)\n",
    "dset[...]"
   ]
  },
  {
   "cell_type": "code",
   "execution_count": 70,
   "id": "e5537d54",
   "metadata": {},
   "outputs": [
    {
     "data": {
      "text/plain": [
       "42"
      ]
     },
     "execution_count": 70,
     "metadata": {},
     "output_type": "execute_result"
    }
   ],
   "source": [
    "dset.fillvalue"
   ]
  },
  {
   "cell_type": "code",
   "execution_count": 71,
   "id": "6c63abdf",
   "metadata": {},
   "outputs": [
    {
     "data": {
      "text/plain": [
       "<HDF5 dataset \"big\": shape (100, 1000), type \"<f4\">"
      ]
     },
     "execution_count": 71,
     "metadata": {},
     "output_type": "execute_result"
    }
   ],
   "source": [
    "dset = f2['big']\n",
    "dset"
   ]
  },
  {
   "cell_type": "code",
   "execution_count": 72,
   "id": "9aac1e59",
   "metadata": {},
   "outputs": [
    {
     "data": {
      "text/plain": [
       "(10, 50)"
      ]
     },
     "execution_count": 72,
     "metadata": {},
     "output_type": "execute_result"
    }
   ],
   "source": [
    "out = dset[0:10, 20:70]\n",
    "out.shape"
   ]
  },
  {
   "cell_type": "code",
   "execution_count": 76,
   "id": "9c0d912e",
   "metadata": {},
   "outputs": [
    {
     "data": {
      "text/plain": [
       "array([0, 1, 2, 3, 4, 5, 6, 7, 8, 9])"
      ]
     },
     "execution_count": 76,
     "metadata": {},
     "output_type": "execute_result"
    }
   ],
   "source": [
    "# Ellipsis ...\n",
    "dset = f.create_dataset('range', data=np.arange(10))\n",
    "dset[...]"
   ]
  },
  {
   "cell_type": "code",
   "execution_count": 77,
   "id": "3096830f",
   "metadata": {},
   "outputs": [
    {
     "data": {
      "text/plain": [
       "<HDF5 file \"testfile.hdf5\" (mode r+)>"
      ]
     },
     "execution_count": 77,
     "metadata": {},
     "output_type": "execute_result"
    }
   ],
   "source": [
    "f"
   ]
  },
  {
   "cell_type": "code",
   "execution_count": 78,
   "id": "9781b096",
   "metadata": {},
   "outputs": [
    {
     "data": {
      "text/plain": [
       "array([0, 1, 2, 3, 4, 5, 6, 7, 8, 9])"
      ]
     },
     "execution_count": 78,
     "metadata": {},
     "output_type": "execute_result"
    }
   ],
   "source": [
    "dset[:]"
   ]
  },
  {
   "cell_type": "code",
   "execution_count": 79,
   "id": "fe97305f",
   "metadata": {},
   "outputs": [
    {
     "data": {
      "text/plain": [
       "((100, 80, 50, 20), (80, 50))"
      ]
     },
     "execution_count": 79,
     "metadata": {},
     "output_type": "execute_result"
    }
   ],
   "source": [
    "dset = f.create_dataset('4d', shape=(100, 80, 50, 20))\n",
    "dset[...].shape, dset[0,...,0].shape"
   ]
  },
  {
   "cell_type": "code",
   "execution_count": 80,
   "id": "b1bf50ae",
   "metadata": {},
   "outputs": [
    {
     "data": {
      "text/plain": [
       "((1,), 42, array([42]))"
      ]
     },
     "execution_count": 80,
     "metadata": {},
     "output_type": "execute_result"
    }
   ],
   "source": [
    "dset = f.create_dataset('1d', shape=(1,), data=42)\n",
    "dset.shape, dset[0], dset[...]"
   ]
  },
  {
   "cell_type": "code",
   "execution_count": 81,
   "id": "60547c3d",
   "metadata": {},
   "outputs": [
    {
     "data": {
      "text/plain": [
       "((), array(42))"
      ]
     },
     "execution_count": 81,
     "metadata": {},
     "output_type": "execute_result"
    }
   ],
   "source": [
    "dset = f.create_dataset('0d', data=42)\n",
    "dset.shape, dset[...]"
   ]
  },
  {
   "cell_type": "code",
   "execution_count": 83,
   "id": "cbd5a369",
   "metadata": {},
   "outputs": [
    {
     "data": {
      "text/plain": [
       "42"
      ]
     },
     "execution_count": 83,
     "metadata": {},
     "output_type": "execute_result"
    }
   ],
   "source": [
    "dset[()]"
   ]
  },
  {
   "cell_type": "code",
   "execution_count": 84,
   "id": "a7cb5d13",
   "metadata": {},
   "outputs": [
    {
     "data": {
      "text/plain": [
       "(array([0, 1, 2, 3, 4, 5, 6, 7, 8, 9]), array([1, 2, 7]))"
      ]
     },
     "execution_count": 84,
     "metadata": {},
     "output_type": "execute_result"
    }
   ],
   "source": [
    "dset = f['range']\n",
    "dset[...], dset[ [1,2,7] ]"
   ]
  },
  {
   "cell_type": "code",
   "execution_count": 88,
   "id": "2e0c3c57",
   "metadata": {},
   "outputs": [
    {
     "data": {
      "text/plain": [
       "(dtype('<f4'), (100, 1000))"
      ]
     },
     "execution_count": 88,
     "metadata": {},
     "output_type": "execute_result"
    }
   ],
   "source": [
    "dset = f2['big']\n",
    "dset.dtype, dset.shape"
   ]
  },
  {
   "cell_type": "code",
   "execution_count": 89,
   "id": "db13f36d",
   "metadata": {},
   "outputs": [
    {
     "data": {
      "text/plain": [
       "dtype('<f4')"
      ]
     },
     "execution_count": 89,
     "metadata": {},
     "output_type": "execute_result"
    }
   ],
   "source": [
    "out = np.empty((100, 1000), dtype=np.float64)\n",
    "dset.read_direct(out)\n",
    "dset.dtype"
   ]
  },
  {
   "cell_type": "code",
   "execution_count": 91,
   "id": "84de256e",
   "metadata": {},
   "outputs": [
    {
     "data": {
      "text/plain": [
       "(0, slice(None, None, None))"
      ]
     },
     "execution_count": 91,
     "metadata": {},
     "output_type": "execute_result"
    }
   ],
   "source": [
    "# np.s_ is a gadget that takes slices, in the ordinary array-slicing syntax,\n",
    "# and returns a NumPy slice object with the corresponding information.\n",
    "np.s_[0,:]"
   ]
  },
  {
   "cell_type": "code",
   "execution_count": 90,
   "id": "46f60f34",
   "metadata": {},
   "outputs": [],
   "source": [
    "dset.read_direct(out, source_sel=np.s_[0,:], dest_sel=np.s_[50,:])"
   ]
  },
  {
   "cell_type": "code",
   "execution_count": 92,
   "id": "be76213b",
   "metadata": {},
   "outputs": [],
   "source": [
    "dset = f.create_dataset('perftest', (10000, 10000), dtype=np.float32)\n",
    "dset[:] = np.random.random(10000) # note the use of broadcasting!\n",
    "def time_simple():\n",
    "    dset[:,0:500].mean(axis=1)\n",
    "out = np.empty((10000, 500), dtype=np.float32)\n",
    "def time_direct():\n",
    "    dset.read_direct(out, np.s_[:,0:500])\n",
    "    out.mean(axis=1)"
   ]
  },
  {
   "cell_type": "code",
   "execution_count": 93,
   "id": "cd30552e",
   "metadata": {},
   "outputs": [
    {
     "data": {
      "text/plain": [
       "(9.971557299999404, 9.53366140000071)"
      ]
     },
     "execution_count": 93,
     "metadata": {},
     "output_type": "execute_result"
    }
   ],
   "source": [
    "timeit(time_simple, number=100), timeit(time_direct, number=100)"
   ]
  },
  {
   "cell_type": "code",
   "execution_count": 94,
   "id": "610a77c4",
   "metadata": {},
   "outputs": [
    {
     "data": {
      "text/plain": [
       "(0.2721551999966323, 0.5773685000021942)"
      ]
     },
     "execution_count": 94,
     "metadata": {},
     "output_type": "execute_result"
    }
   ],
   "source": [
    "a = np.ones((1000,1000), dtype='<f4') # Little-endian 4-byte float\n",
    "b = np.ones((1000,1000), dtype='>f4') # Big-endian 4-byte float\n",
    "timeit(a.mean, number=1000), timeit(b.mean, number=1000)"
   ]
  },
  {
   "cell_type": "code",
   "execution_count": 95,
   "id": "693678dc",
   "metadata": {},
   "outputs": [
    {
     "data": {
      "text/plain": [
       "(dtype('float32'), dtype('float32'), 0.24609680000139633, 0.2194777000004251)"
      ]
     },
     "execution_count": 95,
     "metadata": {},
     "output_type": "execute_result"
    }
   ],
   "source": [
    "c = b.view(\"float32\")\n",
    "c[:] = b\n",
    "b = c\n",
    "b.dtype, c.dtype, timeit(b.mean, number=1000), timeit(c.mean, number=1000)"
   ]
  },
  {
   "cell_type": "code",
   "execution_count": 96,
   "id": "17dc3981",
   "metadata": {},
   "outputs": [
    {
     "data": {
      "text/plain": [
       "((2, 2), (2, 2))"
      ]
     },
     "execution_count": 96,
     "metadata": {},
     "output_type": "execute_result"
    }
   ],
   "source": [
    "dset = f.create_dataset('fixed', (2,2))\n",
    "dset.shape, dset.maxshape"
   ]
  },
  {
   "cell_type": "code",
   "execution_count": 99,
   "id": "050d1ebf",
   "metadata": {},
   "outputs": [
    {
     "data": {
      "text/plain": [
       "((2, 2), (2, 2))"
      ]
     },
     "execution_count": 99,
     "metadata": {},
     "output_type": "execute_result"
    }
   ],
   "source": [
    "dset = f.create_dataset('resizable1', (2,2), maxshape=(2,2))\n",
    "dset.shape, dset.maxshape"
   ]
  },
  {
   "cell_type": "code",
   "execution_count": 100,
   "id": "e49e8534",
   "metadata": {},
   "outputs": [],
   "source": [
    "dset.resize((1,1))"
   ]
  },
  {
   "cell_type": "code",
   "execution_count": 101,
   "id": "48ad28c6",
   "metadata": {},
   "outputs": [
    {
     "data": {
      "text/plain": [
       "(1, 1)"
      ]
     },
     "execution_count": 101,
     "metadata": {},
     "output_type": "execute_result"
    }
   ],
   "source": [
    "dset.shape"
   ]
  },
  {
   "cell_type": "code",
   "execution_count": 102,
   "id": "eb3206cd",
   "metadata": {},
   "outputs": [
    {
     "data": {
      "text/plain": [
       "(2, 2)"
      ]
     },
     "execution_count": 102,
     "metadata": {},
     "output_type": "execute_result"
    }
   ],
   "source": [
    "dset.resize((2,2))\n",
    "dset.shape"
   ]
  },
  {
   "cell_type": "code",
   "execution_count": 103,
   "id": "e6e7fe64",
   "metadata": {},
   "outputs": [
    {
     "data": {
      "text/plain": [
       "(2, 2)"
      ]
     },
     "execution_count": 103,
     "metadata": {},
     "output_type": "execute_result"
    }
   ],
   "source": [
    "dset = f.create_dataset('unlimited', (2,2), maxshape=(2, None))\n",
    "dset.shape"
   ]
  },
  {
   "cell_type": "code",
   "execution_count": 104,
   "id": "00b5e432",
   "metadata": {},
   "outputs": [
    {
     "data": {
      "text/plain": [
       "(2, None)"
      ]
     },
     "execution_count": 104,
     "metadata": {},
     "output_type": "execute_result"
    }
   ],
   "source": [
    "dset.maxshape"
   ]
  },
  {
   "cell_type": "code",
   "execution_count": 105,
   "id": "a4ead5d0",
   "metadata": {},
   "outputs": [
    {
     "data": {
      "text/plain": [
       "(2, 3)"
      ]
     },
     "execution_count": 105,
     "metadata": {},
     "output_type": "execute_result"
    }
   ],
   "source": [
    "dset.resize((2,3))\n",
    "dset.shape"
   ]
  },
  {
   "cell_type": "code",
   "execution_count": 106,
   "id": "aa7571fc",
   "metadata": {},
   "outputs": [
    {
     "name": "stdout",
     "output_type": "stream",
     "text": [
      "[[1 2]\n",
      " [3 4]]\n"
     ]
    },
    {
     "data": {
      "text/plain": [
       "((2, 2), None)"
      ]
     },
     "execution_count": 106,
     "metadata": {},
     "output_type": "execute_result"
    }
   ],
   "source": [
    "a = np.array([ [1, 2], [3, 4] ])\n",
    "a.shape, print(a)"
   ]
  },
  {
   "cell_type": "code",
   "execution_count": 108,
   "id": "3fa447a0",
   "metadata": {},
   "outputs": [
    {
     "name": "stdout",
     "output_type": "stream",
     "text": [
      "[[1 2 3 4]]\n"
     ]
    },
    {
     "data": {
      "text/plain": [
       "(None, (1, 4))"
      ]
     },
     "execution_count": 108,
     "metadata": {},
     "output_type": "execute_result"
    }
   ],
   "source": [
    "a.resize((1,4))\n",
    "print(a), a.shape"
   ]
  },
  {
   "cell_type": "code",
   "execution_count": 109,
   "id": "4e8a03a3",
   "metadata": {},
   "outputs": [
    {
     "name": "stdout",
     "output_type": "stream",
     "text": [
      "[[1 2 3 4 0 0 0 0 0 0]]\n"
     ]
    },
    {
     "data": {
      "text/plain": [
       "(None, (1, 10))"
      ]
     },
     "execution_count": 109,
     "metadata": {},
     "output_type": "execute_result"
    }
   ],
   "source": [
    "a.resize((1,10))\n",
    "print(a), a.shape"
   ]
  },
  {
   "cell_type": "code",
   "execution_count": 110,
   "id": "3f28d5a3",
   "metadata": {},
   "outputs": [
    {
     "data": {
      "text/plain": [
       "array([[1, 2],\n",
       "       [3, 4]], dtype=int32)"
      ]
     },
     "execution_count": 110,
     "metadata": {},
     "output_type": "execute_result"
    }
   ],
   "source": [
    "dset = f.create_dataset('sizetest', (2,2), dtype=np.int32, maxshape=(None, None))\n",
    "dset[...] = [ [1, 2], [3, 4] ]\n",
    "dset[...]"
   ]
  },
  {
   "cell_type": "code",
   "execution_count": 111,
   "id": "e779b555",
   "metadata": {},
   "outputs": [
    {
     "data": {
      "text/plain": [
       "array([[1, 2, 0, 0]], dtype=int32)"
      ]
     },
     "execution_count": 111,
     "metadata": {},
     "output_type": "execute_result"
    }
   ],
   "source": [
    "dset.resize((1,4))\n",
    "dset[...]"
   ]
  },
  {
   "cell_type": "code",
   "execution_count": 112,
   "id": "4086a3a1",
   "metadata": {},
   "outputs": [
    {
     "data": {
      "text/plain": [
       "array([[1, 2, 0, 0, 0, 0, 0, 0, 0, 0]], dtype=int32)"
      ]
     },
     "execution_count": 112,
     "metadata": {},
     "output_type": "execute_result"
    }
   ],
   "source": [
    "dset.resize((1,10))\n",
    "dset[...]"
   ]
  },
  {
   "cell_type": "markdown",
   "id": "99829a01",
   "metadata": {},
   "source": [
    "# Chapter 4. How Chunking and Compression Can Help You"
   ]
  },
  {
   "cell_type": "code",
   "execution_count": 113,
   "id": "5296eb38",
   "metadata": {},
   "outputs": [
    {
     "name": "stderr",
     "output_type": "stream",
     "text": [
      "<ipython-input-113-b7be67c4df6b>:1: H5pyDeprecationWarning: The default file mode will change to 'r' (read-only) in h5py 3.0. To suppress this warning, pass the mode you need to h5py.File(), or set the global default h5.get_config().default_file_mode, or set the environment variable H5PY_DEFAULT_READONLY=1. Available modes are: 'r', 'r+', 'w', 'w-'/'x', 'a'. See the docs for details.\n",
      "  f = h5py.File(\"imagetest.hdf5\")\n"
     ]
    },
    {
     "data": {
      "text/plain": [
       "(480, 640)"
      ]
     },
     "execution_count": 113,
     "metadata": {},
     "output_type": "execute_result"
    }
   ],
   "source": [
    "f = h5py.File(\"imagetest.hdf5\")\n",
    "dset = f.create_dataset(\"Images\", (100, 480, 640), dtype='uint8')\n",
    "image = dset[0, :, :]\n",
    "image.shape"
   ]
  },
  {
   "cell_type": "code",
   "execution_count": 114,
   "id": "d6895ed9",
   "metadata": {},
   "outputs": [
    {
     "data": {
      "text/plain": [
       "(64, 64)"
      ]
     },
     "execution_count": 114,
     "metadata": {},
     "output_type": "execute_result"
    }
   ],
   "source": [
    "tile = dset[0,0:64,0:64]\n",
    "tile.shape"
   ]
  },
  {
   "cell_type": "code",
   "execution_count": 115,
   "id": "db1d4c24",
   "metadata": {},
   "outputs": [],
   "source": [
    "dset = f.create_dataset('chunked', (100,480,640), dtype='i1', chunks=(1,64,64))"
   ]
  },
  {
   "cell_type": "code",
   "execution_count": 116,
   "id": "7bf094b1",
   "metadata": {},
   "outputs": [
    {
     "data": {
      "text/plain": [
       "(1, 64, 64)"
      ]
     },
     "execution_count": 116,
     "metadata": {},
     "output_type": "execute_result"
    }
   ],
   "source": [
    "dset.chunks"
   ]
  },
  {
   "cell_type": "code",
   "execution_count": 117,
   "id": "6a886771",
   "metadata": {},
   "outputs": [],
   "source": [
    "# how to “append” to a dataset \n",
    "\n",
    "dset1 = f.create_dataset('timetraces', (1,1000), maxshape=(None, 1000))\n",
    "def add_trace_1(arr):\n",
    "    dset1.resize( (dset1.shape[0]+1, 1000) )\n",
    "    dset1[-1,:] = arr"
   ]
  },
  {
   "cell_type": "code",
   "execution_count": 118,
   "id": "d95a9a41",
   "metadata": {},
   "outputs": [],
   "source": [
    "dset2 = f.create_dataset('timetraces2', (5000, 1000), maxshape=(None, 1000))\n",
    "ntraces = 0\n",
    "def add_trace_2(arr):\n",
    "    global ntraces\n",
    "    dset2[ntraces,:] = arr\n",
    "    ntraces += 1\n",
    "def done():\n",
    "    dset2.resize((ntraces,1000))"
   ]
  },
  {
   "cell_type": "code",
   "execution_count": 122,
   "id": "1d1eb1c6",
   "metadata": {},
   "outputs": [],
   "source": [
    "def setup():\n",
    "    \"\"\" Re-initialize both datasets for the tests \"\"\"\n",
    "    global data, N, dset1, dset2, ntraces\n",
    "    data = np.random.random(1000)\n",
    "    N = 10000 # Number of iterations\n",
    "    dset1.resize((1,1000))\n",
    "    dset2.resize((10001,1000))\n",
    "    ntraces = 0\n",
    "def test1():\n",
    "    \"\"\" Add N traces to the first dataset \"\"\"\n",
    "    for idx in range(N):\n",
    "        add_trace_1(data)\n",
    "def test2():\n",
    "    \"\"\" Add N traces to the second dataset, and then trim it \"\"\"\n",
    "    for idx in range(N):\n",
    "        add_trace_2(data)\n",
    "    done()"
   ]
  },
  {
   "cell_type": "code",
   "execution_count": 123,
   "id": "d128a421",
   "metadata": {},
   "outputs": [
    {
     "data": {
      "text/plain": [
       "1.2162422000001243"
      ]
     },
     "execution_count": 123,
     "metadata": {},
     "output_type": "execute_result"
    }
   ],
   "source": [
    "timeit(test1, setup=setup, number=1)"
   ]
  },
  {
   "cell_type": "code",
   "execution_count": 124,
   "id": "842a11b0",
   "metadata": {},
   "outputs": [
    {
     "data": {
      "text/plain": [
       "1.0335919999997714"
      ]
     },
     "execution_count": 124,
     "metadata": {},
     "output_type": "execute_result"
    }
   ],
   "source": [
    "timeit(test2, setup=setup, number=1)"
   ]
  },
  {
   "cell_type": "code",
   "execution_count": 125,
   "id": "6af95926",
   "metadata": {},
   "outputs": [
    {
     "data": {
      "text/plain": [
       "(1, 1000)"
      ]
     },
     "execution_count": 125,
     "metadata": {},
     "output_type": "execute_result"
    }
   ],
   "source": [
    "dset1.shape"
   ]
  },
  {
   "cell_type": "code",
   "execution_count": 126,
   "id": "eb37e957",
   "metadata": {},
   "outputs": [
    {
     "data": {
      "text/plain": [
       "((1, 1000), (157, 63))"
      ]
     },
     "execution_count": 126,
     "metadata": {},
     "output_type": "execute_result"
    }
   ],
   "source": [
    "dset1.chunks, dset2.chunks"
   ]
  },
  {
   "cell_type": "code",
   "execution_count": 127,
   "id": "8ac3e418",
   "metadata": {},
   "outputs": [
    {
     "data": {
      "text/plain": [
       "'gzip'"
      ]
     },
     "execution_count": 127,
     "metadata": {},
     "output_type": "execute_result"
    }
   ],
   "source": [
    "dset = f.create_dataset(\"BigDataset\", (1000,1000), dtype='f', compression=\"gzip\")\n",
    "dset.compression"
   ]
  },
  {
   "cell_type": "code",
   "execution_count": 128,
   "id": "d52cebc5",
   "metadata": {},
   "outputs": [
    {
     "data": {
      "text/plain": [
       "42.0"
      ]
     },
     "execution_count": 128,
     "metadata": {},
     "output_type": "execute_result"
    }
   ],
   "source": [
    "# Compression is transparent; data is read and written normally\n",
    "dset[...] = 42.0\n",
    "dset[0,0]"
   ]
  },
  {
   "cell_type": "code",
   "execution_count": 129,
   "id": "559950e4",
   "metadata": {},
   "outputs": [
    {
     "data": {
      "text/plain": [
       "4"
      ]
     },
     "execution_count": 129,
     "metadata": {},
     "output_type": "execute_result"
    }
   ],
   "source": [
    "dset.compression_opts"
   ]
  },
  {
   "cell_type": "code",
   "execution_count": 131,
   "id": "c4d0075c",
   "metadata": {},
   "outputs": [
    {
     "data": {
      "text/plain": [
       "((1000, 1000), (63, 125))"
      ]
     },
     "execution_count": 131,
     "metadata": {},
     "output_type": "execute_result"
    }
   ],
   "source": [
    "dset.shape, dset.chunks"
   ]
  },
  {
   "cell_type": "code",
   "execution_count": 132,
   "id": "9c3dc828",
   "metadata": {},
   "outputs": [
    {
     "data": {
      "text/plain": [
       "'gzip'"
      ]
     },
     "execution_count": 132,
     "metadata": {},
     "output_type": "execute_result"
    }
   ],
   "source": [
    "dset = f.create_dataset(\"Dataset2\", (1000,), compression=9)\n",
    "dset.compression"
   ]
  },
  {
   "cell_type": "code",
   "execution_count": 133,
   "id": "e217c01b",
   "metadata": {},
   "outputs": [
    {
     "data": {
      "text/plain": [
       "9"
      ]
     },
     "execution_count": 133,
     "metadata": {},
     "output_type": "execute_result"
    }
   ],
   "source": [
    "dset.compression_opts"
   ]
  },
  {
   "cell_type": "markdown",
   "id": "7e52e3ae",
   "metadata": {},
   "source": [
    "# Chapter 5. Groups, Links, and Iteration: The “H” in HDF5"
   ]
  },
  {
   "cell_type": "code",
   "execution_count": 135,
   "id": "d1e0fdab",
   "metadata": {},
   "outputs": [
    {
     "name": "stderr",
     "output_type": "stream",
     "text": [
      "<ipython-input-135-eac23ac9bef3>:1: H5pyDeprecationWarning: The default file mode will change to 'r' (read-only) in h5py 3.0. To suppress this warning, pass the mode you need to h5py.File(), or set the global default h5.get_config().default_file_mode, or set the environment variable H5PY_DEFAULT_READONLY=1. Available modes are: 'r', 'r+', 'w', 'w-'/'x', 'a'. See the docs for details.\n",
      "  f = h5py.File(\"Groups.hdf5\")\n"
     ]
    },
    {
     "data": {
      "text/plain": [
       "<HDF5 group \"/SubGroup\" (0 members)>"
      ]
     },
     "execution_count": 135,
     "metadata": {},
     "output_type": "execute_result"
    }
   ],
   "source": [
    "f = h5py.File(\"Groups.hdf5\")\n",
    "subgroup = f.create_group(\"SubGroup\")\n",
    "subgroup"
   ]
  },
  {
   "cell_type": "code",
   "execution_count": 136,
   "id": "49c883bd",
   "metadata": {},
   "outputs": [
    {
     "data": {
      "text/plain": [
       "'/SubGroup'"
      ]
     },
     "execution_count": 136,
     "metadata": {},
     "output_type": "execute_result"
    }
   ],
   "source": [
    "subgroup.name"
   ]
  },
  {
   "cell_type": "code",
   "execution_count": 137,
   "id": "8cc28575",
   "metadata": {},
   "outputs": [
    {
     "data": {
      "text/plain": [
       "'/SubGroup/AnotherGroup'"
      ]
     },
     "execution_count": 137,
     "metadata": {},
     "output_type": "execute_result"
    }
   ],
   "source": [
    "subsubgroup = subgroup.create_group(\"AnotherGroup\")\n",
    "subsubgroup.name"
   ]
  },
  {
   "cell_type": "code",
   "execution_count": 138,
   "id": "89ab1b3f",
   "metadata": {},
   "outputs": [],
   "source": [
    "f[\"Dataset1\"] = 1.0\n",
    "f[\"Dataset2\"] = 2.0\n",
    "f[\"Dataset3\"] = 3.0\n",
    "subgroup[\"Dataset4\"] = 4.0"
   ]
  },
  {
   "cell_type": "code",
   "execution_count": 139,
   "id": "048765f8",
   "metadata": {},
   "outputs": [
    {
     "data": {
      "text/plain": [
       "<HDF5 dataset \"Dataset1\": shape (), type \"<f8\">"
      ]
     },
     "execution_count": 139,
     "metadata": {},
     "output_type": "execute_result"
    }
   ],
   "source": [
    "dset1 = f[\"Dataset1\"]\n",
    "dset1"
   ]
  },
  {
   "cell_type": "code",
   "execution_count": 140,
   "id": "ae859c06",
   "metadata": {},
   "outputs": [
    {
     "data": {
      "text/plain": [
       "<HDF5 dataset \"Dataset4\": shape (), type \"<f8\">"
      ]
     },
     "execution_count": 140,
     "metadata": {},
     "output_type": "execute_result"
    }
   ],
   "source": [
    "dset4 = f[\"SubGroup/Dataset4\"] # Right\n",
    "dset4\n",
    "# dset4 = f[\"SubGroup\"][\"Dataset4\"] # Works, but inefficient"
   ]
  },
  {
   "cell_type": "code",
   "execution_count": 141,
   "id": "e8f22b8f",
   "metadata": {},
   "outputs": [
    {
     "name": "stdout",
     "output_type": "stream",
     "text": [
      "None\n"
     ]
    }
   ],
   "source": [
    "out = f.get(\"BadName\")\n",
    "print(out)"
   ]
  },
  {
   "cell_type": "code",
   "execution_count": 142,
   "id": "702f2a0c",
   "metadata": {},
   "outputs": [
    {
     "data": {
      "text/plain": [
       "(4, 2)"
      ]
     },
     "execution_count": 142,
     "metadata": {},
     "output_type": "execute_result"
    }
   ],
   "source": [
    "len(f), len(f[\"SubGroup\"])"
   ]
  },
  {
   "cell_type": "code",
   "execution_count": 143,
   "id": "75d44016",
   "metadata": {},
   "outputs": [
    {
     "data": {
      "text/plain": [
       "True"
      ]
     },
     "execution_count": 143,
     "metadata": {},
     "output_type": "execute_result"
    }
   ],
   "source": [
    "f = h5py.File('propdemo.hdf5','w')\n",
    "grp = f.create_group('hello')\n",
    "grp.file == f"
   ]
  },
  {
   "cell_type": "code",
   "execution_count": 144,
   "id": "9e73a166",
   "metadata": {},
   "outputs": [
    {
     "data": {
      "text/plain": [
       "<HDF5 group \"/\" (1 members)>"
      ]
     },
     "execution_count": 144,
     "metadata": {},
     "output_type": "execute_result"
    }
   ],
   "source": [
    "grp.parent"
   ]
  },
  {
   "cell_type": "code",
   "execution_count": 145,
   "id": "8b72330a",
   "metadata": {},
   "outputs": [
    {
     "data": {
      "text/plain": [
       "'/x'"
      ]
     },
     "execution_count": 145,
     "metadata": {},
     "output_type": "execute_result"
    }
   ],
   "source": [
    "f = h5py.File('linksdemo.hdf5','w')\n",
    "grpx = f.create_group('x')\n",
    "grpx.name"
   ]
  },
  {
   "cell_type": "code",
   "execution_count": 146,
   "id": "b21cf578",
   "metadata": {},
   "outputs": [
    {
     "data": {
      "text/plain": [
       "True"
      ]
     },
     "execution_count": 146,
     "metadata": {},
     "output_type": "execute_result"
    }
   ],
   "source": [
    "f['y'] = grpx\n",
    "grpy = f['y']\n",
    "grpy == grpx"
   ]
  },
  {
   "cell_type": "code",
   "execution_count": 147,
   "id": "87834d60",
   "metadata": {},
   "outputs": [
    {
     "data": {
      "text/plain": [
       "('/x', '/y')"
      ]
     },
     "execution_count": 147,
     "metadata": {},
     "output_type": "execute_result"
    }
   ],
   "source": [
    "grpx.name, grpy.name"
   ]
  },
  {
   "cell_type": "code",
   "execution_count": 148,
   "id": "32635997",
   "metadata": {},
   "outputs": [
    {
     "name": "stdout",
     "output_type": "stream",
     "text": [
      "None\n"
     ]
    }
   ],
   "source": [
    "grpz = f.create_group(None)\n",
    "print(grpz.name)"
   ]
  },
  {
   "cell_type": "code",
   "execution_count": 149,
   "id": "8e3fda99",
   "metadata": {},
   "outputs": [
    {
     "data": {
      "text/plain": [
       "'/z'"
      ]
     },
     "execution_count": 149,
     "metadata": {},
     "output_type": "execute_result"
    }
   ],
   "source": [
    "f['z'] = grpz\n",
    "grpz.name"
   ]
  },
  {
   "cell_type": "code",
   "execution_count": 151,
   "id": "cba13fe7",
   "metadata": {},
   "outputs": [],
   "source": [
    "del f['y']"
   ]
  },
  {
   "cell_type": "code",
   "execution_count": 152,
   "id": "77f2a9c6",
   "metadata": {},
   "outputs": [],
   "source": [
    "del f['x'] # Last hard link; the group is deleted in the file"
   ]
  },
  {
   "cell_type": "code",
   "execution_count": 153,
   "id": "f6803819",
   "metadata": {},
   "outputs": [],
   "source": [
    "f = h5py.File('test.hdf5','w')\n",
    "grp = f.create_group('mygroup')\n",
    "dset = grp.create_dataset('dataset', (100,))"
   ]
  },
  {
   "cell_type": "code",
   "execution_count": 154,
   "id": "0a6f92c1",
   "metadata": {},
   "outputs": [
    {
     "data": {
      "text/plain": [
       "True"
      ]
     },
     "execution_count": 154,
     "metadata": {},
     "output_type": "execute_result"
    }
   ],
   "source": [
    "f['hardlink'] = dset\n",
    "f['hardlink'] == grp['dataset']"
   ]
  },
  {
   "cell_type": "code",
   "execution_count": 155,
   "id": "9b0f27ef",
   "metadata": {},
   "outputs": [
    {
     "data": {
      "text/plain": [
       "True"
      ]
     },
     "execution_count": 155,
     "metadata": {},
     "output_type": "execute_result"
    }
   ],
   "source": [
    "grp.move('dataset', 'new_dataset_name')\n",
    "f['hardlink'] == grp['new_dataset_name']"
   ]
  },
  {
   "cell_type": "code",
   "execution_count": 156,
   "id": "3b6f9018",
   "metadata": {},
   "outputs": [
    {
     "data": {
      "text/plain": [
       "True"
      ]
     },
     "execution_count": 156,
     "metadata": {},
     "output_type": "execute_result"
    }
   ],
   "source": [
    "grp.move('new_dataset_name', 'dataset')\n",
    "f['softlink'] = h5py.SoftLink('/mygroup/dataset')\n",
    "f['softlink'] == grp['dataset']"
   ]
  },
  {
   "cell_type": "code",
   "execution_count": 157,
   "id": "6eae0470",
   "metadata": {},
   "outputs": [
    {
     "data": {
      "text/plain": [
       "<HDF5 dataset \"softlink\": shape (100,), type \"<f4\">"
      ]
     },
     "execution_count": 157,
     "metadata": {},
     "output_type": "execute_result"
    }
   ],
   "source": [
    "f['softlink']"
   ]
  },
  {
   "cell_type": "code",
   "execution_count": 159,
   "id": "ed058579",
   "metadata": {},
   "outputs": [
    {
     "data": {
      "text/plain": [
       "<SoftLink to \"/some/path\">"
      ]
     },
     "execution_count": 159,
     "metadata": {},
     "output_type": "execute_result"
    }
   ],
   "source": [
    "softlink = h5py.SoftLink('/some/path')\n",
    "softlink"
   ]
  },
  {
   "cell_type": "code",
   "execution_count": 160,
   "id": "a03f338e",
   "metadata": {},
   "outputs": [
    {
     "data": {
      "text/plain": [
       "'/some/path'"
      ]
     },
     "execution_count": 160,
     "metadata": {},
     "output_type": "execute_result"
    }
   ],
   "source": [
    "softlink.path"
   ]
  },
  {
   "cell_type": "code",
   "execution_count": 161,
   "id": "800a0808",
   "metadata": {},
   "outputs": [
    {
     "data": {
      "text/plain": [
       "(False, True)"
      ]
     },
     "execution_count": 161,
     "metadata": {},
     "output_type": "execute_result"
    }
   ],
   "source": [
    "#if we move the dataset and replace it with something else, /softlink would then point to the new object\n",
    "grp.move('dataset', 'new_dataset_name')\n",
    "dset2 = grp.create_dataset('dataset', (50,))\n",
    "f['softlink'] == dset, f['softlink'] == dset2"
   ]
  },
  {
   "cell_type": "code",
   "execution_count": 162,
   "id": "8f33055b",
   "metadata": {},
   "outputs": [
    {
     "name": "stdout",
     "output_type": "stream",
     "text": [
      "/e_with_accent_é\n"
     ]
    }
   ],
   "source": [
    "grp = f.create_group(u'e_with_accent_\\u00E9')\n",
    "print(grp.name)"
   ]
  },
  {
   "cell_type": "code",
   "execution_count": 164,
   "id": "7a3e2bea",
   "metadata": {},
   "outputs": [
    {
     "name": "stdout",
     "output_type": "stream",
     "text": [
      "/e_with_accent_ê\n"
     ]
    }
   ],
   "source": [
    "grp2 = f.create_group('e_with_accent_\\u00EA')\n",
    "print(grp2.name)"
   ]
  },
  {
   "cell_type": "code",
   "execution_count": 165,
   "id": "4c4d0f60",
   "metadata": {},
   "outputs": [
    {
     "data": {
      "text/plain": [
       "<HDF5 dataset \"dataset\": shape (100,), type \"<f4\">"
      ]
     },
     "execution_count": 165,
     "metadata": {},
     "output_type": "execute_result"
    }
   ],
   "source": [
    "f = h5py.File('get_demo.hdf5','w')\n",
    "f.create_group('subgroup')\n",
    "f.create_dataset('dataset', (100,))"
   ]
  },
  {
   "cell_type": "code",
   "execution_count": 166,
   "id": "283910a9",
   "metadata": {},
   "outputs": [
    {
     "name": "stdout",
     "output_type": "stream",
     "text": [
      "dataset <class 'h5py._hl.dataset.Dataset'>\n",
      "subgroup <class 'h5py._hl.group.Group'>\n"
     ]
    }
   ],
   "source": [
    "for name in f:\n",
    "    print(name, f.get(name, getclass=True))"
   ]
  },
  {
   "cell_type": "code",
   "execution_count": 168,
   "id": "b4ade3f7",
   "metadata": {},
   "outputs": [
    {
     "name": "stdout",
     "output_type": "stream",
     "text": [
      "dataset <h5py._hl.group.HardLink object at 0x7f447d1ab940>\n",
      "extlink <ExternalLink to \"/egroup\" in file \"get_demo_ext.hdf5\"\n",
      "softlink <SoftLink to \"/subgroup\">\n",
      "subgroup <h5py._hl.group.HardLink object at 0x7f4502d29610>\n"
     ]
    }
   ],
   "source": [
    "f['softlink'] = h5py.SoftLink('/subgroup')\n",
    "with h5py.File('get_demo_ext.hdf5','w') as f2:\n",
    "    f2.create_group('egroup')\n",
    "f['extlink'] = h5py.ExternalLink('get_demo_ext.hdf5','/egroup')\n",
    "for name in f:\n",
    "    print(name, f.get(name, getlink=True))"
   ]
  },
  {
   "cell_type": "code",
   "execution_count": 170,
   "id": "eefeec8f",
   "metadata": {},
   "outputs": [
    {
     "data": {
      "text/plain": [
       "<HDF5 dataset \"dataset2\": shape (100,), type \"<i4\">"
      ]
     },
     "execution_count": 170,
     "metadata": {},
     "output_type": "execute_result"
    }
   ],
   "source": [
    "f.create_dataset('dataset2', (100,), dtype='i')\n",
    "f.require_dataset('dataset2', (100,), dtype='i')"
   ]
  },
  {
   "cell_type": "markdown",
   "id": "f209c6eb",
   "metadata": {},
   "source": [
    "# Chapter 6. Storing Metadata with Attributes"
   ]
  },
  {
   "cell_type": "code",
   "execution_count": 2,
   "id": "24036d3f",
   "metadata": {},
   "outputs": [],
   "source": [
    "import h5py\n",
    "import numpy as np\n",
    "f = h5py.File('attrsdemo.hdf5','w')\n",
    "dset = f.create_dataset('dataset',(100,))"
   ]
  },
  {
   "cell_type": "code",
   "execution_count": 3,
   "id": "7b2e9551",
   "metadata": {},
   "outputs": [
    {
     "data": {
      "text/plain": [
       "<Attributes of HDF5 object at 139988506886608>"
      ]
     },
     "execution_count": 3,
     "metadata": {},
     "output_type": "execute_result"
    }
   ],
   "source": [
    "dset.attrs"
   ]
  },
  {
   "cell_type": "code",
   "execution_count": 4,
   "id": "726bcc9f",
   "metadata": {},
   "outputs": [],
   "source": [
    "dset.attrs['title'] = \"Dataset from third round of experiments\"\n",
    "dset.attrs['sample_rate'] = 100e6 # 100 MHz digitizer setting\n",
    "dset.attrs['run_id'] = 144"
   ]
  },
  {
   "cell_type": "code",
   "execution_count": 5,
   "id": "4fb38877",
   "metadata": {},
   "outputs": [
    {
     "data": {
      "text/plain": [
       "'Dataset from third round of experiments'"
      ]
     },
     "execution_count": 5,
     "metadata": {},
     "output_type": "execute_result"
    }
   ],
   "source": [
    "dset.attrs['title']"
   ]
  },
  {
   "cell_type": "code",
   "execution_count": 6,
   "id": "c98a8560",
   "metadata": {},
   "outputs": [
    {
     "data": {
      "text/plain": [
       "100000000.0"
      ]
     },
     "execution_count": 6,
     "metadata": {},
     "output_type": "execute_result"
    }
   ],
   "source": [
    "dset.attrs['sample_rate']"
   ]
  },
  {
   "cell_type": "code",
   "execution_count": 7,
   "id": "cec9f771",
   "metadata": {},
   "outputs": [
    {
     "data": {
      "text/plain": [
       "['run_id', 'sample_rate', 'title']"
      ]
     },
     "execution_count": 7,
     "metadata": {},
     "output_type": "execute_result"
    }
   ],
   "source": [
    "[x for x in dset.attrs]"
   ]
  },
  {
   "cell_type": "code",
   "execution_count": 8,
   "id": "bba47547",
   "metadata": {},
   "outputs": [],
   "source": [
    "dset.attrs['another_id'] = 42\n",
    "dset.attrs['another_id'] = 100"
   ]
  },
  {
   "cell_type": "code",
   "execution_count": 9,
   "id": "ad0b5ef2",
   "metadata": {},
   "outputs": [
    {
     "ename": "KeyError",
     "evalue": "\"Can't open attribute (can't locate attribute: 'another_id')\"",
     "output_type": "error",
     "traceback": [
      "\u001b[0;31m---------------------------------------------------------------------------\u001b[0m",
      "\u001b[0;31mKeyError\u001b[0m                                  Traceback (most recent call last)",
      "\u001b[0;32m<ipython-input-9-f1a6c5d092e3>\u001b[0m in \u001b[0;36m<module>\u001b[0;34m\u001b[0m\n\u001b[1;32m      1\u001b[0m \u001b[0;32mdel\u001b[0m \u001b[0mdset\u001b[0m\u001b[0;34m.\u001b[0m\u001b[0mattrs\u001b[0m\u001b[0;34m[\u001b[0m\u001b[0;34m'another_id'\u001b[0m\u001b[0;34m]\u001b[0m\u001b[0;34m\u001b[0m\u001b[0;34m\u001b[0m\u001b[0m\n\u001b[0;32m----> 2\u001b[0;31m \u001b[0mdset\u001b[0m\u001b[0;34m.\u001b[0m\u001b[0mattrs\u001b[0m\u001b[0;34m[\u001b[0m\u001b[0;34m'another_id'\u001b[0m\u001b[0;34m]\u001b[0m\u001b[0;34m\u001b[0m\u001b[0;34m\u001b[0m\u001b[0m\n\u001b[0m",
      "\u001b[0;32mh5py/_objects.pyx\u001b[0m in \u001b[0;36mh5py._objects.with_phil.wrapper\u001b[0;34m()\u001b[0m\n",
      "\u001b[0;32mh5py/_objects.pyx\u001b[0m in \u001b[0;36mh5py._objects.with_phil.wrapper\u001b[0;34m()\u001b[0m\n",
      "\u001b[0;32m~/miniconda3/lib/python3.8/site-packages/h5py/_hl/attrs.py\u001b[0m in \u001b[0;36m__getitem__\u001b[0;34m(self, name)\u001b[0m\n\u001b[1;32m     58\u001b[0m         \"\"\" Read the value of an attribute.\n\u001b[1;32m     59\u001b[0m         \"\"\"\n\u001b[0;32m---> 60\u001b[0;31m         \u001b[0mattr\u001b[0m \u001b[0;34m=\u001b[0m \u001b[0mh5a\u001b[0m\u001b[0;34m.\u001b[0m\u001b[0mopen\u001b[0m\u001b[0;34m(\u001b[0m\u001b[0mself\u001b[0m\u001b[0;34m.\u001b[0m\u001b[0m_id\u001b[0m\u001b[0;34m,\u001b[0m \u001b[0mself\u001b[0m\u001b[0;34m.\u001b[0m\u001b[0m_e\u001b[0m\u001b[0;34m(\u001b[0m\u001b[0mname\u001b[0m\u001b[0;34m)\u001b[0m\u001b[0;34m)\u001b[0m\u001b[0;34m\u001b[0m\u001b[0;34m\u001b[0m\u001b[0m\n\u001b[0m\u001b[1;32m     61\u001b[0m \u001b[0;34m\u001b[0m\u001b[0m\n\u001b[1;32m     62\u001b[0m         \u001b[0;32mif\u001b[0m \u001b[0mis_empty_dataspace\u001b[0m\u001b[0;34m(\u001b[0m\u001b[0mattr\u001b[0m\u001b[0;34m)\u001b[0m\u001b[0;34m:\u001b[0m\u001b[0;34m\u001b[0m\u001b[0;34m\u001b[0m\u001b[0m\n",
      "\u001b[0;32mh5py/_objects.pyx\u001b[0m in \u001b[0;36mh5py._objects.with_phil.wrapper\u001b[0;34m()\u001b[0m\n",
      "\u001b[0;32mh5py/_objects.pyx\u001b[0m in \u001b[0;36mh5py._objects.with_phil.wrapper\u001b[0;34m()\u001b[0m\n",
      "\u001b[0;32mh5py/h5a.pyx\u001b[0m in \u001b[0;36mh5py.h5a.open\u001b[0;34m()\u001b[0m\n",
      "\u001b[0;31mKeyError\u001b[0m: \"Can't open attribute (can't locate attribute: 'another_id')\""
     ]
    }
   ],
   "source": [
    "del dset.attrs['another_id']\n",
    "dset.attrs['another_id']"
   ]
  },
  {
   "cell_type": "code",
   "execution_count": 12,
   "id": "35c546e9",
   "metadata": {},
   "outputs": [
    {
     "data": {
      "text/plain": [
       "[('run_id', 144),\n",
       " ('sample_rate', 100000000.0),\n",
       " ('title', 'Dataset from third round of experiments')]"
      ]
     },
     "execution_count": 12,
     "metadata": {},
     "output_type": "execute_result"
    }
   ],
   "source": [
    "[(name, val) for name, val in dset.attrs.items()]"
   ]
  },
  {
   "cell_type": "code",
   "execution_count": 13,
   "id": "c0118caf",
   "metadata": {},
   "outputs": [
    {
     "data": {
      "text/plain": [
       "144"
      ]
     },
     "execution_count": 13,
     "metadata": {},
     "output_type": "execute_result"
    }
   ],
   "source": [
    "dset.attrs.get('run_id')"
   ]
  },
  {
   "cell_type": "code",
   "execution_count": 14,
   "id": "81f47b85",
   "metadata": {},
   "outputs": [
    {
     "name": "stdout",
     "output_type": "stream",
     "text": [
      "None\n"
     ]
    }
   ],
   "source": [
    "print(dset.attrs.get('missing'))"
   ]
  },
  {
   "cell_type": "code",
   "execution_count": 15,
   "id": "60d3a8e3",
   "metadata": {},
   "outputs": [
    {
     "data": {
      "text/plain": [
       "dtype('<f4')"
      ]
     },
     "execution_count": 15,
     "metadata": {},
     "output_type": "execute_result"
    }
   ],
   "source": [
    "dset.dtype"
   ]
  },
  {
   "cell_type": "code",
   "execution_count": 16,
   "id": "f0b90a65",
   "metadata": {},
   "outputs": [],
   "source": [
    "f.flush()"
   ]
  },
  {
   "cell_type": "code",
   "execution_count": 4,
   "id": "70cf4ad6",
   "metadata": {},
   "outputs": [
    {
     "name": "stderr",
     "output_type": "stream",
     "text": [
      "UsageError: Line magic function `%h5ls` not found.\n"
     ]
    }
   ],
   "source": [
    "%h5ls -vlr attrsdemo.hdf5"
   ]
  },
  {
   "cell_type": "markdown",
   "id": "f60c5bff",
   "metadata": {
    "tags": []
   },
   "source": [
    "# Chapter 7. More About Types"
   ]
  },
  {
   "cell_type": "code",
   "execution_count": 2,
   "id": "a5d06c34-f8ed-4059-bb59-bbc0dc731354",
   "metadata": {},
   "outputs": [
    {
     "name": "stderr",
     "output_type": "stream",
     "text": [
      "<ipython-input-2-7bc9d46dc082>:3: H5pyDeprecationWarning: The default file mode will change to 'r' (read-only) in h5py 3.0. To suppress this warning, pass the mode you need to h5py.File(), or set the global default h5.get_config().default_file_mode, or set the environment variable H5PY_DEFAULT_READONLY=1. Available modes are: 'r', 'r+', 'w', 'w-'/'x', 'a'. See the docs for details.\n",
      "  f = h5py.File(\"typesdemo.hdf5\")\n"
     ]
    },
    {
     "data": {
      "text/plain": [
       "127"
      ]
     },
     "execution_count": 2,
     "metadata": {},
     "output_type": "execute_result"
    }
   ],
   "source": [
    "import h5py\n",
    "import numpy as np\n",
    "f = h5py.File(\"typesdemo.hdf5\")\n",
    "dset = f.create_dataset('smallint', (10,), dtype=np.int8)\n",
    "dset[0] = 300\n",
    "dset[0]"
   ]
  },
  {
   "cell_type": "code",
   "execution_count": 3,
   "id": "2c3d7b70-132c-4828-b653-70b91fbbe520",
   "metadata": {},
   "outputs": [
    {
     "data": {
      "text/plain": [
       "44"
      ]
     },
     "execution_count": 3,
     "metadata": {},
     "output_type": "execute_result"
    }
   ],
   "source": [
    "a = np.zeros((10,), dtype=np.int8)\n",
    "a[0] = 300\n",
    "a[0]"
   ]
  },
  {
   "cell_type": "code",
   "execution_count": 4,
   "id": "87f45760-4286-49f5-927e-d8bc3ccc85a2",
   "metadata": {},
   "outputs": [],
   "source": [
    "dset = f.create_dataset('half_float', (100,100,100), dtype=np.float16)\n",
    "a = dset[...]\n",
    "a = a.astype(np.float32)"
   ]
  },
  {
   "cell_type": "code",
   "execution_count": 6,
   "id": "74f15abb-94eb-4b7e-9596-c5d135d61d7b",
   "metadata": {},
   "outputs": [
    {
     "data": {
      "text/plain": [
       "array([b'a', b'ab', b'abc', b'abc'], dtype='|S3')"
      ]
     },
     "execution_count": 6,
     "metadata": {},
     "output_type": "execute_result"
    }
   ],
   "source": [
    "dt = np.dtype('S3')\n",
    "a = np.array( [ \"a\", \"ab\", \"abc\", \"abcd\" ], dtype=dt)\n",
    "a"
   ]
  },
  {
   "cell_type": "code",
   "execution_count": 7,
   "id": "168b8f47-2c36-43b1-935f-565bd89de936",
   "metadata": {},
   "outputs": [
    {
     "data": {
      "text/plain": [
       "dtype('O')"
      ]
     },
     "execution_count": 7,
     "metadata": {},
     "output_type": "execute_result"
    }
   ],
   "source": [
    "dt = h5py.special_dtype(vlen=str)\n",
    "dt"
   ]
  },
  {
   "cell_type": "code",
   "execution_count": 8,
   "id": "ea2c540e-d196-417d-982d-e2ce507d1a57",
   "metadata": {},
   "outputs": [],
   "source": [
    "dset = f.create_dataset('vlen_dataset', (100,), dtype=dt)"
   ]
  },
  {
   "cell_type": "code",
   "execution_count": 9,
   "id": "ef3d2d14-15cd-4706-97b8-dcdab337c9ab",
   "metadata": {},
   "outputs": [],
   "source": [
    "dset[0] = \"Hello\"\n",
    "dset[1] = np.string_(\"Hello2\")\n",
    "dset[3] = \"X\"*10000"
   ]
  },
  {
   "cell_type": "code",
   "execution_count": 10,
   "id": "0c93f108-2f9a-43dd-ae9e-1cba5d009ace",
   "metadata": {},
   "outputs": [
    {
     "data": {
      "text/plain": [
       "str"
      ]
     },
     "execution_count": 10,
     "metadata": {},
     "output_type": "execute_result"
    }
   ],
   "source": [
    "out = dset[0]\n",
    "type(out)"
   ]
  },
  {
   "cell_type": "code",
   "execution_count": 11,
   "id": "e7816e8c-98ec-4a06-a302-11f81e2db71b",
   "metadata": {},
   "outputs": [
    {
     "data": {
      "text/plain": [
       "array(['Hello', 'Hello2'], dtype=object)"
      ]
     },
     "execution_count": 11,
     "metadata": {},
     "output_type": "execute_result"
    }
   ],
   "source": [
    "dset[0:2]"
   ]
  },
  {
   "cell_type": "code",
   "execution_count": 12,
   "id": "6eef75db-91b9-41f0-a25e-e0f2d1a65f03",
   "metadata": {},
   "outputs": [
    {
     "data": {
      "text/plain": [
       "dtype('O')"
      ]
     },
     "execution_count": 12,
     "metadata": {},
     "output_type": "execute_result"
    }
   ],
   "source": [
    "out = dset[0:1]\n",
    "out.dtype"
   ]
  },
  {
   "cell_type": "markdown",
   "id": "68a3ba10-6f4b-4ad0-9401-35e8a2b76a51",
   "metadata": {},
   "source": [
    "# Chapter 8. Organizing Data with References, Types, and Dimension Scales"
   ]
  },
  {
   "cell_type": "code",
   "execution_count": 13,
   "id": "95a54cce-0550-446c-802f-90b0fe9ba520",
   "metadata": {},
   "outputs": [],
   "source": [
    "f = h5py.File('refs_demo.hdf5','w')\n",
    "grp1 = f.create_group('group1')\n",
    "grp2 = f.create_group('group2')\n",
    "dset = f.create_dataset('mydata', shape=(100,))"
   ]
  },
  {
   "cell_type": "code",
   "execution_count": 14,
   "id": "2a2e53da-4b3b-4188-9d55-ad58c12be03c",
   "metadata": {},
   "outputs": [
    {
     "data": {
      "text/plain": [
       "<HDF5 object reference>"
      ]
     },
     "execution_count": 14,
     "metadata": {},
     "output_type": "execute_result"
    }
   ],
   "source": [
    "grp1.ref"
   ]
  },
  {
   "cell_type": "code",
   "execution_count": 15,
   "id": "298e66f8-05ee-433a-84e2-5a79bcc65018",
   "metadata": {},
   "outputs": [
    {
     "data": {
      "text/plain": [
       "True"
      ]
     },
     "execution_count": 15,
     "metadata": {},
     "output_type": "execute_result"
    }
   ],
   "source": [
    "out = f[grp1.ref]\n",
    "out == grp1"
   ]
  },
  {
   "cell_type": "code",
   "execution_count": 16,
   "id": "4270aa69-15d5-46c5-80ef-d3fd2dcc0c92",
   "metadata": {},
   "outputs": [
    {
     "data": {
      "text/plain": [
       "True"
      ]
     },
     "execution_count": 16,
     "metadata": {},
     "output_type": "execute_result"
    }
   ],
   "source": [
    "isinstance(grp1.ref, h5py.Reference)"
   ]
  },
  {
   "cell_type": "code",
   "execution_count": 17,
   "id": "c257fab8-5053-4fa4-9f8c-23cb46895b45",
   "metadata": {},
   "outputs": [
    {
     "data": {
      "text/plain": [
       "True"
      ]
     },
     "execution_count": 17,
     "metadata": {},
     "output_type": "execute_result"
    }
   ],
   "source": [
    "out = grp2[grp1.ref]\n",
    "out == grp1"
   ]
  }
 ],
 "metadata": {
  "kernelspec": {
   "display_name": "Python 3",
   "language": "python",
   "name": "python3"
  },
  "language_info": {
   "codemirror_mode": {
    "name": "ipython",
    "version": 3
   },
   "file_extension": ".py",
   "mimetype": "text/x-python",
   "name": "python",
   "nbconvert_exporter": "python",
   "pygments_lexer": "ipython3",
   "version": "3.8.5"
  }
 },
 "nbformat": 4,
 "nbformat_minor": 5
}
